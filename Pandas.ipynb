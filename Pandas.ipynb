{
 "cells": [
  {
   "cell_type": "markdown",
   "id": "0bda9e0c-a48c-4b0b-ba8a-492043e18c00",
   "metadata": {},
   "source": [
    "# Introduction to Pandas DataFrames"
   ]
  },
  {
   "cell_type": "markdown",
   "id": "344079bd-87d9-4f21-ba78-761c0e6a1260",
   "metadata": {},
   "source": [
    "Pandas is a powerful and versatile library for Python, designed primarily for data manipulation and analysis. To quote from Nvidia’s website:"
   ]
  },
  {
   "cell_type": "markdown",
   "id": "724b1f8a-c768-4247-8f52-8260da2cef0d",
   "metadata": {},
   "source": [
    "Pandas is the most popular software library for data manipulation and data analysis for the Python programming language. (www.nvidia.com)"
   ]
  },
  {
   "cell_type": "markdown",
   "id": "73d4c60a-71bc-403a-8f47-86ee749803ab",
   "metadata": {},
   "source": [
    "Here is an (incomplete) list of some key functionalities provided by Pandas:"
   ]
  },
  {
   "cell_type": "markdown",
   "id": "90599fef-ef95-4adf-b846-b85dff9344e9",
   "metadata": {},
   "source": [
    "1. Data Structures\n",
    "   - Series: One-dimensional labeled array capable of holding data of any type.\n",
    "   - DataFrame: Two-dimensional, size-mutable, potentially heterogeneous tabular data structure with labeled axes (rows and columns).\n",
    "2. Data Manipulation\n",
    "   - Data Selection and Indexing: Access data via labels, indices, or boolean masks (.loc, .iloc, .at, .iat).\n",
    "   - Filtering: Filter data based on conditions or queries.\n",
    "   - Sorting: Sort data by labels or values.\n",
    "   - Handling Missing Data: Identify, fill, or drop missing values (isnull, dropna, fillna).\n",
    "3. Data Cleaning\n",
    "   - Dropping Duplicates: Remove duplicate rows or columns.\n",
    "   - Replacing Values: Replace specific values in the DataFrame.\n",
    "   - String Operations: Perform operations on string data, like splitting, replacing, and pattern matching (str.split, str.replace).\n",
    "4. Aggregation and Grouping\n",
    "   - Group By: Split data into groups based on criteria, and perform aggregate functions like sum, mean, or custom operations.\n",
    "   - Pivot Tables: Create a pivot table to summarize data.\n",
    "5. Merging and Joining\n",
    "    - Concatenation: Combine multiple DataFrames along a particular axis.\n",
    "    - Merging: Merge DataFrames similar to SQL joins (merge, join).\n",
    "6. Time Series\n",
    "   - Datetime Conversion: Convert date and time data to a datetime object.\n",
    "   - Resampling: Aggregate data over a time period.\n",
    "   - Time-based Indexing: Access and manipulate time-series data easily with date indexing.\n",
    "7. Statistical and Mathematical Operations\n",
    "   - Descriptive Statistics: Compute summary statistics for DataFrame columns.\n",
    "   - Correlation/ Covariance: Calculate the pairwise correlation or covariance between columns.\n",
    "   - Cumulative Operations: Perform cumulative operations on data."
   ]
  },
  {
   "cell_type": "markdown",
   "id": "955d4e19-50d4-4a74-8cda-ccdf0477e5c4",
   "metadata": {},
   "source": [
    "At the heart of Pandas lies the DataFrame, a two-dimensional labeled data structure with columns of potentially different types, similar to a table in a relational database or an Excel spreadsheet. Understanding DataFrames is crucial for anyone looking to perform data analysis in Python."
   ]
  },
  {
   "cell_type": "markdown",
   "id": "3ccdfb15-edcf-4655-8493-12ff5666871f",
   "metadata": {},
   "source": [
    "# What is a DataFrame?"
   ]
  },
  {
   "cell_type": "markdown",
   "id": "c0d7b62a-49a6-43cf-af99-0964f516e955",
   "metadata": {},
   "source": [
    "A DataFrame is a table-like structure in Pandas that consists of rows and columns, where each column can hold different data types (e.g., integers, floats, strings). You can think of it as a collection of Series objects, where each Series is a single column of data. DataFrames provide a highly efficient way to store and manipulate large datasets in memory."
   ]
  },
  {
   "cell_type": "markdown",
   "id": "729602c0-0abd-4500-9e33-475ad4349bd2",
   "metadata": {},
   "source": [
    "# Creating a DataFrame"
   ]
  },
  {
   "cell_type": "markdown",
   "id": "2951dacd-af23-4e5a-bae4-bea16171e63b",
   "metadata": {},
   "source": [
    "There are several ways to create a DataFrame in Pandas, but some of the most common methods are:\n",
    "\n",
    "1. From a Dictionar\n",
    "2. From a List of Lists\n",
    "3. From a CSV File\n",
    "\n",
    "Below we take a look at the first two approaches."
   ]
  },
  {
   "cell_type": "markdown",
   "id": "5c036744-517a-4d6d-bad6-6d21f0e5e5ed",
   "metadata": {},
   "source": [
    "# Creating DataFrame from a Dictionary"
   ]
  },
  {
   "cell_type": "markdown",
   "id": "2e7eae0f-e337-4e99-8ee0-29afd88ff14b",
   "metadata": {},
   "source": [
    "The following code will create a DataFrame with three columns: ‘Name’, ‘Age’, and ‘City’, and three rows corresponding to the data provided in the dictionary. To be able to use Pandas, we first have to import it. This is done using the command import pandas as pd, introducing the alias pd for Pandas."
   ]
  },
  {
   "cell_type": "code",
   "execution_count": 3,
   "id": "d750d8eb-0a68-4927-b0e2-2c2e12ca03cb",
   "metadata": {},
   "outputs": [
    {
     "name": "stdout",
     "output_type": "stream",
     "text": [
      "      Name  Age         City\n",
      "0    Alice   25     New York\n",
      "1      Bob   30  Los Angeles\n",
      "2  Charlie   35      Chicago\n"
     ]
    }
   ],
   "source": [
    "import pandas as pd\n",
    "\n",
    "data = {\n",
    "    'Name': ['Alice', 'Bob', 'Charlie'],\n",
    "    'Age': [25, 30, 35],\n",
    "    'City': ['New York', 'Los Angeles', 'Chicago']\n",
    "}\n",
    "\n",
    "df = pd.DataFrame(data)\n",
    "print(df)"
   ]
  },
  {
   "cell_type": "markdown",
   "id": "3f528e94-f816-45b2-a65d-36286caf5b5d",
   "metadata": {},
   "source": [
    "# Creating DataFrame from a List of Lists"
   ]
  },
  {
   "cell_type": "markdown",
   "id": "f5caf602-054b-40a7-bf07-011cd03d9040",
   "metadata": {},
   "source": [
    "Here, we create the DataFrame from a list of lists where each inner list represents the values for one row. Note that We explicitly specify the column names when creating the DataFrame."
   ]
  },
  {
   "cell_type": "code",
   "execution_count": 4,
   "id": "6a1d4693-a15a-4140-8022-b615fc517ef2",
   "metadata": {},
   "outputs": [
    {
     "name": "stdout",
     "output_type": "stream",
     "text": [
      "      Name  Age         City\n",
      "0    Alice   25     New York\n",
      "1      Bob   30  Los Angeles\n",
      "2  Charlie   35      Chicago\n"
     ]
    }
   ],
   "source": [
    "data = [\n",
    "    ['Alice', 25, 'New York'],\n",
    "    ['Bob', 30, 'Los Angeles'],\n",
    "    ['Charlie', 35, 'Chicago']\n",
    "]\n",
    "\n",
    "df = pd.DataFrame(data, columns=['Name', 'Age', 'City'])\n",
    "print(df)"
   ]
  },
  {
   "cell_type": "markdown",
   "id": "7b8f487a-8cbe-475b-9abc-01e1bb8feaf7",
   "metadata": {},
   "source": [
    "# Accessing Data in a DataFrame"
   ]
  },
  {
   "cell_type": "markdown",
   "id": "d641b936-da0f-4c7b-9cc0-c1e9e6a0e461",
   "metadata": {},
   "source": [
    "Once you have a DataFrame, you can access its data in various ways:"
   ]
  },
  {
   "cell_type": "markdown",
   "id": "71f3d3f3-18d0-4ca3-b7f2-15341162b717",
   "metadata": {},
   "source": [
    "- By column name:"
   ]
  },
  {
   "cell_type": "code",
   "execution_count": 5,
   "id": "cf28e1c2-1a21-40fe-9103-0b563883b038",
   "metadata": {},
   "outputs": [
    {
     "name": "stdout",
     "output_type": "stream",
     "text": [
      "0      Alice\n",
      "1        Bob\n",
      "2    Charlie\n",
      "Name: Name, dtype: object\n"
     ]
    }
   ],
   "source": [
    "print(df['Name'])"
   ]
  },
  {
   "cell_type": "markdown",
   "id": "4cb91982-4bed-493f-8026-6158cbfb51b5",
   "metadata": {},
   "source": [
    "- By row index:"
   ]
  },
  {
   "cell_type": "code",
   "execution_count": 6,
   "id": "b2c06abe-124f-4fc6-b40a-78328616e1ae",
   "metadata": {},
   "outputs": [
    {
     "name": "stdout",
     "output_type": "stream",
     "text": [
      "Name       Alice\n",
      "Age           25\n",
      "City    New York\n",
      "Name: 0, dtype: object\n"
     ]
    }
   ],
   "source": [
    "print(df.iloc[0])"
   ]
  },
  {
   "cell_type": "markdown",
   "id": "9d8e673a-f46e-4811-9add-5690b4961726",
   "metadata": {},
   "source": [
    "- Using both:"
   ]
  },
  {
   "cell_type": "code",
   "execution_count": 7,
   "id": "60052155-73ce-46a9-9f1e-189c6a40de69",
   "metadata": {},
   "outputs": [
    {
     "name": "stdout",
     "output_type": "stream",
     "text": [
      "Alice\n"
     ]
    }
   ],
   "source": [
    "print(df.loc[0, 'Name'])"
   ]
  },
  {
   "cell_type": "markdown",
   "id": "e7195197-e2aa-4ad7-8f9b-a50ba7013ff0",
   "metadata": {},
   "source": [
    "# Conclusion"
   ]
  },
  {
   "cell_type": "markdown",
   "id": "f99dabad-730a-4ebd-b7f7-419880d3b3f3",
   "metadata": {},
   "source": [
    "Pandas DataFrames are a fundamental tool in the data analysis toolkit for Python users. They provide a powerful way to organize, manipulate, and analyze data efficiently. Whether you’re working with small datasets or handling large-scale data, mastering DataFrames will allow you to tackle a wide range of data-related tasks with ease.\n",
    "\n",
    "In this introduction, we’ve covered the basics of what a DataFrame is, how to create one, and how to access columns, rows, and individual cells in a DataFrame. As you continue to explore Pandas, you’ll discover many more features and capabilities that make DataFrames an indispensable part of Python programming. The table below contains a number of resources related to Pandas."
   ]
  },
  {
   "cell_type": "markdown",
   "id": "ca656909-4d20-47d4-ad06-eccf59aafa9c",
   "metadata": {},
   "source": [
    "| Resource | Description | \n",
    "|----------|----------|\n",
    "|\tPandas Documentation\t|\tOfficial documentation for Pandas.\t|\n",
    "|\tPython for Data Analysis\t|\tComprehensive guide by Pandas creator, Wes McKinney.\t|\n",
    "|\tReal Python: The Pandas DataFrame\t|\tTutorials on using Pandas for data analysis.\t|\n",
    "|\tKaggle Pandas\t|\tFree introductory course on Pandas by Kaggle.\t|\n",
    "|\tDataCamp Pandas Tutorial\t|\tDetailed tutorials and exercises on Pandas.\t|\n",
    "\n"
   ]
  },
  {
   "cell_type": "code",
   "execution_count": null,
   "id": "25f7817a-d600-47f4-b9e1-b19cd7abe125",
   "metadata": {},
   "outputs": [],
   "source": []
  }
 ],
 "metadata": {
  "kernelspec": {
   "display_name": "Python 3 (ipykernel)",
   "language": "python",
   "name": "python3"
  },
  "language_info": {
   "codemirror_mode": {
    "name": "ipython",
    "version": 3
   },
   "file_extension": ".py",
   "mimetype": "text/x-python",
   "name": "python",
   "nbconvert_exporter": "python",
   "pygments_lexer": "ipython3",
   "version": "3.11.13"
  }
 },
 "nbformat": 4,
 "nbformat_minor": 5
}
